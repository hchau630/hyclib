{
 "cells": [
  {
   "cell_type": "code",
   "execution_count": 1,
   "id": "bb30af0d-c5ab-45b6-8caa-b67708a04b75",
   "metadata": {},
   "outputs": [],
   "source": [
    "import hyclib as lib"
   ]
  },
  {
   "cell_type": "code",
   "execution_count": 2,
   "id": "ef9980e5-cc05-44ed-a8f5-27e9b1e5f9f8",
   "metadata": {},
   "outputs": [
    {
     "name": "stdout",
     "output_type": "stream",
     "text": [
      "a hi\n",
      "b/c 1\n",
      "b/d 1.0\n",
      "f hii\n"
     ]
    }
   ],
   "source": [
    "d = {\n",
    "    'a': 'hi',\n",
    "    'b': {\n",
    "        'c': 1,\n",
    "        'd': 1.0,\n",
    "        'e': {}\n",
    "    },\n",
    "    'f': 'hii'\n",
    "}\n",
    "for k, v in lib.itertools.dict_iter(d, delimiter='/'):\n",
    "    print(k, v)"
   ]
  },
  {
   "cell_type": "code",
   "execution_count": 3,
   "id": "70b0c208-a136-448d-af36-eb803b660998",
   "metadata": {},
   "outputs": [
    {
     "name": "stdout",
     "output_type": "stream",
     "text": [
      "[((0, 0), ('a', 1)), ((0, 1), ('a', 2)), ((1, 0), ('b', 1)), ((1, 1), ('b', 2)), ((2, 0), ('c', 1)), ((2, 1), ('c', 2))]\n"
     ]
    }
   ],
   "source": [
    "l1 = ['a','b','c']\n",
    "l2 = [1,2]\n",
    "print(list(lib.itertools.product(l1, l2, enum=True)))"
   ]
  },
  {
   "cell_type": "code",
   "execution_count": null,
   "id": "c3a6f175-7363-4d64-8d82-692ebe0899ff",
   "metadata": {},
   "outputs": [],
   "source": []
  }
 ],
 "metadata": {
  "kernelspec": {
   "display_name": "Python [conda env:anaconda3-hyclib]",
   "language": "python",
   "name": "conda-env-anaconda3-hyclib-py"
  },
  "language_info": {
   "codemirror_mode": {
    "name": "ipython",
    "version": 3
   },
   "file_extension": ".py",
   "mimetype": "text/x-python",
   "name": "python",
   "nbconvert_exporter": "python",
   "pygments_lexer": "ipython3",
   "version": "3.9.16"
  }
 },
 "nbformat": 4,
 "nbformat_minor": 5
}
