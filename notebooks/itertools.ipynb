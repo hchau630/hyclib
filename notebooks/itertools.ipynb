{
 "cells": [
  {
   "cell_type": "code",
   "execution_count": 20,
   "id": "7854896f-c80d-4471-8e12-76b06921cd0e",
   "metadata": {},
   "outputs": [
    {
     "name": "stdout",
     "output_type": "stream",
     "text": [
      "The autoreload extension is already loaded. To reload it, use:\n",
      "  %reload_ext autoreload\n"
     ]
    }
   ],
   "source": [
    "%load_ext autoreload\n",
    "%autoreload 2"
   ]
  },
  {
   "cell_type": "code",
   "execution_count": 21,
   "id": "bb30af0d-c5ab-45b6-8caa-b67708a04b75",
   "metadata": {},
   "outputs": [],
   "source": [
    "import collections\n",
    "\n",
    "import numpy as np\n",
    "\n",
    "import hyclib as lib"
   ]
  },
  {
   "cell_type": "code",
   "execution_count": 70,
   "id": "232c9a48-9f1a-4d15-b645-eaa7ce5538e6",
   "metadata": {},
   "outputs": [
    {
     "name": "stdout",
     "output_type": "stream",
     "text": [
      "[1, 2, [3]]\n",
      "[]\n",
      "(4, 5)\n",
      "6\n"
     ]
    }
   ],
   "source": [
    "x = ([1,2,[3]],[],(4,5),6,)\n",
    "for v in lib.itertools.deep_iter(x, depth=-1, types=[tuple], exclude=[tuple]):\n",
    "    print(v)"
   ]
  },
  {
   "cell_type": "code",
   "execution_count": 2,
   "id": "ef9980e5-cc05-44ed-a8f5-27e9b1e5f9f8",
   "metadata": {},
   "outputs": [
    {
     "name": "stdout",
     "output_type": "stream",
     "text": [
      "a hi\n",
      "b/c 1\n",
      "b/d 1.0\n",
      "f hii\n"
     ]
    }
   ],
   "source": [
    "d = {\n",
    "    'a': 'hi',\n",
    "    'b': {\n",
    "        'c': 1,\n",
    "        'd': 1.0,\n",
    "        'e': {}\n",
    "    },\n",
    "    'f': 'hii'\n",
    "}\n",
    "for k, v in lib.itertools.dict_iter(d, delimiter='/'):\n",
    "    print(k, v)"
   ]
  },
  {
   "cell_type": "code",
   "execution_count": 3,
   "id": "70b0c208-a136-448d-af36-eb803b660998",
   "metadata": {},
   "outputs": [
    {
     "name": "stdout",
     "output_type": "stream",
     "text": [
      "[((0, 0), ('a', 1)), ((0, 1), ('a', 2)), ((1, 0), ('b', 1)), ((1, 1), ('b', 2)), ((2, 0), ('c', 1)), ((2, 1), ('c', 2))]\n"
     ]
    }
   ],
   "source": [
    "l1 = ['a','b','c']\n",
    "l2 = [1,2]\n",
    "print(list(lib.itertools.product(l1, l2, enum=True)))"
   ]
  },
  {
   "cell_type": "code",
   "execution_count": null,
   "id": "c3a6f175-7363-4d64-8d82-692ebe0899ff",
   "metadata": {},
   "outputs": [],
   "source": []
  }
 ],
 "metadata": {
  "kernelspec": {
   "display_name": "Python [conda env:anaconda3-hyclib]",
   "language": "python",
   "name": "conda-env-anaconda3-hyclib-py"
  },
  "language_info": {
   "codemirror_mode": {
    "name": "ipython",
    "version": 3
   },
   "file_extension": ".py",
   "mimetype": "text/x-python",
   "name": "python",
   "nbconvert_exporter": "python",
   "pygments_lexer": "ipython3",
   "version": "3.9.16"
  }
 },
 "nbformat": 4,
 "nbformat_minor": 5
}
