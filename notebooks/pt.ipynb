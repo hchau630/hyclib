{
 "cells": [
  {
   "cell_type": "code",
   "execution_count": 1,
   "id": "df852d25-b295-492a-a7fb-a782f958ac19",
   "metadata": {},
   "outputs": [],
   "source": [
    "%load_ext autoreload\n",
    "%autoreload 2"
   ]
  },
  {
   "cell_type": "code",
   "execution_count": 106,
   "id": "90104171-1458-4e66-bcd9-671ce4f4eaf0",
   "metadata": {},
   "outputs": [],
   "source": [
    "import numbers\n",
    "\n",
    "import torch\n",
    "import numpy as np\n",
    "import pandas as pd\n",
    "import matplotlib.pyplot as plt\n",
    "\n",
    "import hyclib as lib"
   ]
  },
  {
   "cell_type": "code",
   "execution_count": 4,
   "id": "bd8e2f97-bb00-4cee-964b-90d00dde1d94",
   "metadata": {},
   "outputs": [
    {
     "name": "stdout",
     "output_type": "stream",
     "text": [
      "(array([3, 6, 6]), array([4, 5, 1]))\n",
      "[22 41 37]\n"
     ]
    }
   ],
   "source": [
    "arr = np.array([22, 41, 37])\n",
    "shape = (7,6)\n",
    "arr = np.unravel_index(arr, shape)\n",
    "print(arr)\n",
    "arr = np.ravel_multi_index(arr, shape)\n",
    "print(arr)"
   ]
  },
  {
   "cell_type": "code",
   "execution_count": 5,
   "id": "14ff2915-5f8d-4540-a7d2-22b541a787cb",
   "metadata": {},
   "outputs": [
    {
     "name": "stdout",
     "output_type": "stream",
     "text": [
      "(tensor([3, 6, 6]), tensor([4, 5, 1]))\n",
      "tensor([22, 41, 37])\n"
     ]
    }
   ],
   "source": [
    "t = torch.as_tensor(arr)\n",
    "t = lib.pt.unravel_index(t, shape, as_tuple=True)\n",
    "print(t)\n",
    "print(lib.pt.ravel_multi_index(t, shape))"
   ]
  },
  {
   "cell_type": "code",
   "execution_count": 175,
   "id": "981d53cf-32ad-4473-a013-95383cef3fdd",
   "metadata": {},
   "outputs": [
    {
     "name": "stderr",
     "output_type": "stream",
     "text": [
      "/Users/hoyinchau/opt/anaconda3/envs/hyclib/lib/python3.9/site-packages/torch/masked/maskedtensor/core.py:299: UserWarning: max is not implemented in __torch_dispatch__ for MaskedTensor.\n",
      "If you would like this operator to be supported, please file an issue for a feature request at https://github.com/pytorch/maskedtensor/issues with a minimal reproducible code snippet.\n",
      "In the case that the semantics for the operator are not trivial, it would be appreciated to also include a proposal for the semantics.\n",
      "  warnings.warn(msg)\n"
     ]
    },
    {
     "ename": "TypeError",
     "evalue": "no implementation found for 'torch._ops.aten.max.default' on types that implement __torch_dispatch__: [<class 'torch.masked.maskedtensor.core.MaskedTensor'>]",
     "output_type": "error",
     "traceback": [
      "\u001b[0;31m---------------------------------------------------------------------------\u001b[0m",
      "\u001b[0;31mTypeError\u001b[0m                                 Traceback (most recent call last)",
      "Cell \u001b[0;32mIn[175], line 1\u001b[0m\n\u001b[0;32m----> 1\u001b[0m \u001b[43mtorch\u001b[49m\u001b[38;5;241;43m.\u001b[39;49m\u001b[43mmasked\u001b[49m\u001b[38;5;241;43m.\u001b[39;49m\u001b[43mMaskedTensor\u001b[49m\u001b[43m(\u001b[49m\u001b[43mtorch\u001b[49m\u001b[38;5;241;43m.\u001b[39;49m\u001b[43mtensor\u001b[49m\u001b[43m(\u001b[49m\u001b[43m[\u001b[49m\u001b[38;5;241;43m1\u001b[39;49m\u001b[43m,\u001b[49m\u001b[38;5;241;43m2\u001b[39;49m\u001b[43m,\u001b[49m\u001b[38;5;241;43m3\u001b[39;49m\u001b[43m]\u001b[49m\u001b[43m)\u001b[49m\u001b[43m,\u001b[49m\u001b[43m \u001b[49m\u001b[43mtorch\u001b[49m\u001b[38;5;241;43m.\u001b[39;49m\u001b[43mtensor\u001b[49m\u001b[43m(\u001b[49m\u001b[43m[\u001b[49m\u001b[38;5;28;43;01mTrue\u001b[39;49;00m\u001b[43m,\u001b[49m\u001b[43m \u001b[49m\u001b[38;5;28;43;01mTrue\u001b[39;49;00m\u001b[43m,\u001b[49m\u001b[43m \u001b[49m\u001b[38;5;28;43;01mFalse\u001b[39;49;00m\u001b[43m]\u001b[49m\u001b[43m)\u001b[49m\u001b[43m)\u001b[49m\u001b[38;5;241;43m.\u001b[39;49m\u001b[43mmax\u001b[49m\u001b[43m(\u001b[49m\u001b[43m)\u001b[49m\n",
      "File \u001b[0;32m~/opt/anaconda3/envs/hyclib/lib/python3.9/site-packages/torch/masked/maskedtensor/core.py:274\u001b[0m, in \u001b[0;36mMaskedTensor.__torch_function__\u001b[0;34m(cls, func, types, args, kwargs)\u001b[0m\n\u001b[1;32m    272\u001b[0m     \u001b[38;5;28;01mreturn\u001b[39;00m \u001b[38;5;28mNotImplemented\u001b[39m\n\u001b[1;32m    273\u001b[0m \u001b[38;5;28;01mwith\u001b[39;00m torch\u001b[38;5;241m.\u001b[39m_C\u001b[38;5;241m.\u001b[39mDisableTorchFunction():\n\u001b[0;32m--> 274\u001b[0m     ret \u001b[38;5;241m=\u001b[39m \u001b[43mfunc\u001b[49m\u001b[43m(\u001b[49m\u001b[38;5;241;43m*\u001b[39;49m\u001b[43margs\u001b[49m\u001b[43m,\u001b[49m\u001b[43m \u001b[49m\u001b[38;5;241;43m*\u001b[39;49m\u001b[38;5;241;43m*\u001b[39;49m\u001b[43mkwargs\u001b[49m\u001b[43m)\u001b[49m\n\u001b[1;32m    275\u001b[0m     \u001b[38;5;28;01mif\u001b[39;00m func \u001b[38;5;129;01min\u001b[39;00m get_default_nowrap_functions():\n\u001b[1;32m    276\u001b[0m         \u001b[38;5;28;01mreturn\u001b[39;00m ret\n",
      "\u001b[0;31mTypeError\u001b[0m: no implementation found for 'torch._ops.aten.max.default' on types that implement __torch_dispatch__: [<class 'torch.masked.maskedtensor.core.MaskedTensor'>]"
     ]
    }
   ],
   "source": [
    "torch.masked.MaskedTensor(torch.tensor([1,2,3]), torch.tensor([True, True, False])).max()"
   ]
  },
  {
   "cell_type": "code",
   "execution_count": 167,
   "id": "c29e4d14-49e2-403e-a03d-22890f6af8d1",
   "metadata": {},
   "outputs": [],
   "source": [
    "M, N = 100, 100000\n",
    "\n",
    "# bins = [-2.5,-2,-1,0,1,2,3.0]\n",
    "bins = 100\n",
    "arr = np.random.normal(size=N)\n",
    "indices = np.random.randint(N, size=M)\n",
    "arr[indices] = np.nan"
   ]
  },
  {
   "cell_type": "code",
   "execution_count": 169,
   "id": "9b9c6799-9588-4b70-8037-07463b5559da",
   "metadata": {},
   "outputs": [
    {
     "ename": "ValueError",
     "evalue": "array([ 0.55059211, -0.55368352,  0.78836508, ...,  0.31585746,\n        0.26697453,  0.64387578]) contains non-finite values.",
     "output_type": "error",
     "traceback": [
      "\u001b[0;31m---------------------------------------------------------------------------\u001b[0m",
      "\u001b[0;31mValueError\u001b[0m                                Traceback (most recent call last)",
      "Cell \u001b[0;32mIn[169], line 1\u001b[0m\n\u001b[0;32m----> 1\u001b[0m binnumbers, centers, edges \u001b[38;5;241m=\u001b[39m \u001b[43mlib\u001b[49m\u001b[38;5;241;43m.\u001b[39;49m\u001b[43msp\u001b[49m\u001b[38;5;241;43m.\u001b[39;49m\u001b[43mstats\u001b[49m\u001b[38;5;241;43m.\u001b[39;49m\u001b[43mbin\u001b[49m\u001b[43m(\u001b[49m\u001b[43marr\u001b[49m\u001b[43m,\u001b[49m\u001b[43m \u001b[49m\u001b[43mbins\u001b[49m\u001b[38;5;241;43m=\u001b[39;49m\u001b[43mbins\u001b[49m\u001b[43m,\u001b[49m\u001b[43m \u001b[49m\u001b[43mnan_policy\u001b[49m\u001b[38;5;241;43m=\u001b[39;49m\u001b[38;5;124;43m'\u001b[39;49m\u001b[38;5;124;43mraise\u001b[39;49m\u001b[38;5;124;43m'\u001b[39;49m\u001b[43m)\u001b[49m\n\u001b[1;32m      3\u001b[0m t \u001b[38;5;241m=\u001b[39m torch\u001b[38;5;241m.\u001b[39mtensor(arr)\n\u001b[1;32m      4\u001b[0m tbinnumbers, tcenters, tedges \u001b[38;5;241m=\u001b[39m lib\u001b[38;5;241m.\u001b[39mpt\u001b[38;5;241m.\u001b[39mstats\u001b[38;5;241m.\u001b[39mbin(t, bins\u001b[38;5;241m=\u001b[39mbins, nan_policy\u001b[38;5;241m=\u001b[39m\u001b[38;5;124m'\u001b[39m\u001b[38;5;124mraise\u001b[39m\u001b[38;5;124m'\u001b[39m)\n",
      "File \u001b[0;32m~/local_documents/research/hyclib/hyclib/sp/stats.py:363\u001b[0m, in \u001b[0;36mbin\u001b[0;34m(sample, bins, range, **kwargs)\u001b[0m\n\u001b[1;32m    360\u001b[0m     \u001b[38;5;28;01mif\u001b[39;00m \u001b[38;5;28mlen\u001b[39m(\u001b[38;5;28mrange\u001b[39m) \u001b[38;5;241m==\u001b[39m \u001b[38;5;241m2\u001b[39m:\n\u001b[1;32m    361\u001b[0m         \u001b[38;5;28mrange\u001b[39m \u001b[38;5;241m=\u001b[39m [\u001b[38;5;28mrange\u001b[39m]\n\u001b[0;32m--> 363\u001b[0m bin_nums, centers, edges \u001b[38;5;241m=\u001b[39m \u001b[43mbin_dd\u001b[49m\u001b[43m(\u001b[49m\u001b[43msample\u001b[49m\u001b[43m,\u001b[49m\u001b[43m \u001b[49m\u001b[43mbins\u001b[49m\u001b[38;5;241;43m=\u001b[39;49m\u001b[43mbins\u001b[49m\u001b[43m,\u001b[49m\u001b[43m \u001b[49m\u001b[38;5;28;43mrange\u001b[39;49m\u001b[38;5;241;43m=\u001b[39;49m\u001b[38;5;28;43mrange\u001b[39;49m\u001b[43m,\u001b[49m\u001b[43m \u001b[49m\u001b[38;5;241;43m*\u001b[39;49m\u001b[38;5;241;43m*\u001b[39;49m\u001b[43mkwargs\u001b[49m\u001b[43m)\u001b[49m\n\u001b[1;32m    364\u001b[0m \u001b[38;5;28;01mreturn\u001b[39;00m bin_nums, centers[\u001b[38;5;241m0\u001b[39m], edges[\u001b[38;5;241m0\u001b[39m]\n",
      "File \u001b[0;32m~/local_documents/research/hyclib/hyclib/sp/stats.py:319\u001b[0m, in \u001b[0;36mbin_dd\u001b[0;34m(sample, bins, range, expand_binnumbers, nan_policy)\u001b[0m\n\u001b[1;32m    315\u001b[0m \u001b[38;5;66;03m# If bins was an integer-like object, now it is an actual Python int.\u001b[39;00m\n\u001b[1;32m    316\u001b[0m \n\u001b[1;32m    317\u001b[0m \u001b[38;5;66;03m# NOTE: for _bin_edges(), see e.g. gh-11365\u001b[39;00m\n\u001b[1;32m    318\u001b[0m \u001b[38;5;28;01mif\u001b[39;00m nan_policy \u001b[38;5;241m==\u001b[39m \u001b[38;5;124m'\u001b[39m\u001b[38;5;124mraise\u001b[39m\u001b[38;5;124m'\u001b[39m \u001b[38;5;129;01mand\u001b[39;00m \u001b[38;5;28misinstance\u001b[39m(bins, \u001b[38;5;28mint\u001b[39m) \u001b[38;5;129;01mand\u001b[39;00m \u001b[38;5;129;01mnot\u001b[39;00m np\u001b[38;5;241m.\u001b[39misfinite(sample)\u001b[38;5;241m.\u001b[39mall():\n\u001b[0;32m--> 319\u001b[0m     \u001b[38;5;28;01mraise\u001b[39;00m \u001b[38;5;167;01mValueError\u001b[39;00m(\u001b[38;5;124m'\u001b[39m\u001b[38;5;132;01m%r\u001b[39;00m\u001b[38;5;124m contains non-finite values.\u001b[39m\u001b[38;5;124m'\u001b[39m \u001b[38;5;241m%\u001b[39m (sample,))\n\u001b[1;32m    321\u001b[0m \u001b[38;5;66;03m# `Ndim` is the number of dimensions (e.g. `2` for `binned_statistic_2d`)\u001b[39;00m\n\u001b[1;32m    322\u001b[0m \u001b[38;5;66;03m# `Dlen` is the length of elements along each dimension.\u001b[39;00m\n\u001b[1;32m    323\u001b[0m \u001b[38;5;66;03m# This code is based on np.histogramdd\u001b[39;00m\n\u001b[1;32m    324\u001b[0m \u001b[38;5;28;01mtry\u001b[39;00m:\n\u001b[1;32m    325\u001b[0m     \u001b[38;5;66;03m# `sample` is an ND-array.\u001b[39;00m\n",
      "\u001b[0;31mValueError\u001b[0m: array([ 0.55059211, -0.55368352,  0.78836508, ...,  0.31585746,\n        0.26697453,  0.64387578]) contains non-finite values."
     ]
    }
   ],
   "source": [
    "binnumbers, centers, edges = lib.sp.stats.bin(arr, bins=bins, nan_policy='raise')\n",
    "\n",
    "t = torch.tensor(arr)\n",
    "tbinnumbers, tcenters, tedges = lib.pt.stats.bin(t, bins=bins, nan_policy='raise')\n",
    "\n",
    "pbinnumbers, pedges = pd.cut(arr, bins=bins, retbins=True, labels=False, right=False)\n",
    "\n",
    "# print(binnumbers)\n",
    "# print(tbinnumbers.numpy())\n",
    "# print(pbinnumbers)\n",
    "# print(centers)\n",
    "# print(tcenters.numpy())\n",
    "# print(binnumbers[np.isnan(arr)])\n",
    "# print(tbinnumbers.numpy()[np.isnan(arr)])\n",
    "# print(pbinnumbers[np.isnan(arr)])\n",
    "\n",
    "torch.testing.assert_close(torch.from_numpy(binnumbers), tbinnumbers)\n",
    "torch.testing.assert_close(torch.from_numpy(centers), tcenters, equal_nan=True)\n",
    "torch.testing.assert_close(torch.from_numpy(edges), tedges)\n",
    "\n",
    "isnan = np.isnan(pbinnumbers)\n",
    "np.testing.assert_allclose(binnumbers[~isnan], pbinnumbers[~isnan] + 1)\n",
    "if isinstance(bins, numbers.Number):\n",
    "    r = np.nanmax(arr) - np.nanmin(arr)\n",
    "    edges[-1] = edges[-1] + r * 0.001\n",
    "np.testing.assert_allclose(edges, pedges)"
   ]
  },
  {
   "cell_type": "code",
   "execution_count": null,
   "id": "c302e7dc-bcbb-4351-bd9d-6f3212ebe81e",
   "metadata": {},
   "outputs": [],
   "source": []
  }
 ],
 "metadata": {
  "kernelspec": {
   "display_name": "Python [conda env:anaconda3-hyclib]",
   "language": "python",
   "name": "conda-env-anaconda3-hyclib-py"
  },
  "language_info": {
   "codemirror_mode": {
    "name": "ipython",
    "version": 3
   },
   "file_extension": ".py",
   "mimetype": "text/x-python",
   "name": "python",
   "nbconvert_exporter": "python",
   "pygments_lexer": "ipython3",
   "version": "3.9.16"
  }
 },
 "nbformat": 4,
 "nbformat_minor": 5
}
