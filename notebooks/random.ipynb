{
 "cells": [
  {
   "cell_type": "code",
   "execution_count": 3,
   "id": "10175944-3816-4602-808c-d28326f4789e",
   "metadata": {},
   "outputs": [],
   "source": [
    "import random\n",
    "\n",
    "import torch\n",
    "import numpy as np\n",
    "\n",
    "import hyclib as lib"
   ]
  },
  {
   "cell_type": "code",
   "execution_count": 27,
   "id": "cb98cddb-5b21-426b-a84e-7b7966917cd9",
   "metadata": {},
   "outputs": [
    {
     "name": "stdout",
     "output_type": "stream",
     "text": [
      "tensor([0.1217, 0.7356])\n",
      "[0.89132195 0.20920212]\n",
      "0.43351443489540376\n",
      "tensor([0.4963, 0.7682])\n",
      "[0.5488135  0.71518937]\n",
      "0.8444218515250481\n",
      "tensor([0.4963, 0.7682])\n",
      "[0.5488135  0.71518937]\n",
      "0.8444218515250481\n",
      "tensor([0.7576, 0.2793])\n",
      "[0.417022   0.72032449]\n",
      "0.13436424411240122\n",
      "tensor([0.7576, 0.2793])\n",
      "[0.417022   0.72032449]\n",
      "0.13436424411240122\n",
      "tensor([0.7118, 0.7876])\n",
      "[0.18532822 0.10837689]\n",
      "0.8000204571334277\n"
     ]
    }
   ],
   "source": [
    "size = (2,)\n",
    "\n",
    "print(torch.rand(size))\n",
    "print(np.random.random(size=size))\n",
    "print(random.random())\n",
    "\n",
    "seed = 0\n",
    "with lib.random.set_seed(seed):\n",
    "    print(torch.rand(size))\n",
    "    print(np.random.random(size=size))\n",
    "    print(random.random())\n",
    "    \n",
    "with lib.random.set_seed(seed):\n",
    "    print(torch.rand(size))\n",
    "    print(np.random.random(size=size))\n",
    "    print(random.random())\n",
    "    \n",
    "seed = 1\n",
    "with lib.random.set_seed(seed):\n",
    "    print(torch.rand(size))\n",
    "    print(np.random.random(size=size))\n",
    "    print(random.random())\n",
    "    \n",
    "with lib.random.set_seed(seed):\n",
    "    print(torch.rand(size))\n",
    "    print(np.random.random(size=size))\n",
    "    print(random.random())\n",
    "\n",
    "print(torch.rand(size))\n",
    "print(np.random.random(size=size))\n",
    "print(random.random())"
   ]
  },
  {
   "cell_type": "code",
   "execution_count": null,
   "id": "0ed2f78a-5588-49fa-bd04-53595d3306f2",
   "metadata": {},
   "outputs": [],
   "source": []
  }
 ],
 "metadata": {
  "kernelspec": {
   "display_name": "Python [conda env:anaconda3-hyclib]",
   "language": "python",
   "name": "conda-env-anaconda3-hyclib-py"
  },
  "language_info": {
   "codemirror_mode": {
    "name": "ipython",
    "version": 3
   },
   "file_extension": ".py",
   "mimetype": "text/x-python",
   "name": "python",
   "nbconvert_exporter": "python",
   "pygments_lexer": "ipython3",
   "version": "3.9.16"
  }
 },
 "nbformat": 4,
 "nbformat_minor": 5
}
