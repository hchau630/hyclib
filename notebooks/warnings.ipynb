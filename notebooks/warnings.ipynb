{
 "cells": [
  {
   "cell_type": "code",
   "execution_count": 1,
   "id": "60f6424b-eba5-416f-a6bf-fd93f6a9d3f0",
   "metadata": {},
   "outputs": [],
   "source": [
    "%load_ext autoreload\n",
    "%autoreload 2"
   ]
  },
  {
   "cell_type": "code",
   "execution_count": 14,
   "id": "c350a478-ce41-4c52-8405-0290791ace52",
   "metadata": {},
   "outputs": [],
   "source": [
    "import warnings\n",
    "\n",
    "import hyclib as lib"
   ]
  },
  {
   "cell_type": "code",
   "execution_count": 39,
   "id": "7ed26a3d-43e5-457e-8cbe-657c6fea4506",
   "metadata": {},
   "outputs": [
    {
     "ename": "Exception",
     "evalue": "HI",
     "output_type": "error",
     "traceback": [
      "\u001b[0;31m---------------------------------------------------------------------------\u001b[0m",
      "\u001b[0;31mException\u001b[0m                                 Traceback (most recent call last)",
      "Cell \u001b[0;32mIn[39], line 4\u001b[0m\n\u001b[1;32m      1\u001b[0m \u001b[38;5;28;01mdef\u001b[39;00m \u001b[38;5;21mfunc\u001b[39m():\n\u001b[1;32m      2\u001b[0m     \u001b[38;5;28;01mraise\u001b[39;00m \u001b[38;5;167;01mException\u001b[39;00m(\u001b[38;5;124m\"\u001b[39m\u001b[38;5;124mHI\u001b[39m\u001b[38;5;124m\"\u001b[39m)\n\u001b[0;32m----> 4\u001b[0m \u001b[43mfunc\u001b[49m\u001b[43m(\u001b[49m\u001b[43m)\u001b[49m\n",
      "Cell \u001b[0;32mIn[39], line 2\u001b[0m, in \u001b[0;36mfunc\u001b[0;34m()\u001b[0m\n\u001b[1;32m      1\u001b[0m \u001b[38;5;28;01mdef\u001b[39;00m \u001b[38;5;21mfunc\u001b[39m():\n\u001b[0;32m----> 2\u001b[0m     \u001b[38;5;28;01mraise\u001b[39;00m \u001b[38;5;167;01mException\u001b[39;00m(\u001b[38;5;124m\"\u001b[39m\u001b[38;5;124mHI\u001b[39m\u001b[38;5;124m\"\u001b[39m)\n",
      "\u001b[0;31mException\u001b[0m: HI"
     ]
    }
   ],
   "source": [
    "def func():\n",
    "    raise Exception(\"HI\")\n",
    "\n",
    "func()"
   ]
  },
  {
   "cell_type": "code",
   "execution_count": 38,
   "id": "51088cb3-8597-4889-8c11-1533be426c6c",
   "metadata": {},
   "outputs": [
    {
     "name": "stdout",
     "output_type": "stream",
     "text": [
      "[]\n"
     ]
    },
    {
     "name": "stderr",
     "output_type": "stream",
     "text": [
      "  File \"/Users/hoyinchau/opt/anaconda3/envs/hyclib/lib/python3.9/runpy.py\", line 197, in _run_module_as_main\n",
      "    return _run_code(code, main_globals, None,\n",
      "  File \"/Users/hoyinchau/opt/anaconda3/envs/hyclib/lib/python3.9/runpy.py\", line 87, in _run_code\n",
      "    exec(code, run_globals)\n",
      "  File \"/Users/hoyinchau/opt/anaconda3/envs/hyclib/lib/python3.9/site-packages/ipykernel_launcher.py\", line 17, in <module>\n",
      "    app.launch_new_instance()\n",
      "  File \"/Users/hoyinchau/opt/anaconda3/envs/hyclib/lib/python3.9/site-packages/traitlets/config/application.py\", line 1043, in launch_instance\n",
      "    app.start()\n",
      "  File \"/Users/hoyinchau/opt/anaconda3/envs/hyclib/lib/python3.9/site-packages/ipykernel/kernelapp.py\", line 725, in start\n",
      "    self.io_loop.start()\n",
      "  File \"/Users/hoyinchau/opt/anaconda3/envs/hyclib/lib/python3.9/site-packages/tornado/platform/asyncio.py\", line 215, in start\n",
      "    self.asyncio_loop.run_forever()\n",
      "  File \"/Users/hoyinchau/opt/anaconda3/envs/hyclib/lib/python3.9/asyncio/base_events.py\", line 601, in run_forever\n",
      "    self._run_once()\n",
      "  File \"/Users/hoyinchau/opt/anaconda3/envs/hyclib/lib/python3.9/asyncio/base_events.py\", line 1905, in _run_once\n",
      "    handle._run()\n",
      "  File \"/Users/hoyinchau/opt/anaconda3/envs/hyclib/lib/python3.9/asyncio/events.py\", line 80, in _run\n",
      "    self._context.run(self._callback, *self._args)\n",
      "  File \"/Users/hoyinchau/opt/anaconda3/envs/hyclib/lib/python3.9/site-packages/ipykernel/kernelbase.py\", line 513, in dispatch_queue\n",
      "    await self.process_one()\n",
      "  File \"/Users/hoyinchau/opt/anaconda3/envs/hyclib/lib/python3.9/site-packages/ipykernel/kernelbase.py\", line 502, in process_one\n",
      "    await dispatch(*args)\n",
      "  File \"/Users/hoyinchau/opt/anaconda3/envs/hyclib/lib/python3.9/site-packages/ipykernel/kernelbase.py\", line 409, in dispatch_shell\n",
      "    await result\n",
      "  File \"/Users/hoyinchau/opt/anaconda3/envs/hyclib/lib/python3.9/site-packages/ipykernel/kernelbase.py\", line 729, in execute_request\n",
      "    reply_content = await reply_content\n",
      "  File \"/Users/hoyinchau/opt/anaconda3/envs/hyclib/lib/python3.9/site-packages/ipykernel/ipkernel.py\", line 422, in do_execute\n",
      "    res = shell.run_cell(\n",
      "  File \"/Users/hoyinchau/opt/anaconda3/envs/hyclib/lib/python3.9/site-packages/ipykernel/zmqshell.py\", line 540, in run_cell\n",
      "    return super().run_cell(*args, **kwargs)\n",
      "  File \"/Users/hoyinchau/opt/anaconda3/envs/hyclib/lib/python3.9/site-packages/IPython/core/interactiveshell.py\", line 2961, in run_cell\n",
      "    result = self._run_cell(\n",
      "  File \"/Users/hoyinchau/opt/anaconda3/envs/hyclib/lib/python3.9/site-packages/IPython/core/interactiveshell.py\", line 3016, in _run_cell\n",
      "    result = runner(coro)\n",
      "  File \"/Users/hoyinchau/opt/anaconda3/envs/hyclib/lib/python3.9/site-packages/IPython/core/async_helpers.py\", line 129, in _pseudo_sync_runner\n",
      "    coro.send(None)\n",
      "  File \"/Users/hoyinchau/opt/anaconda3/envs/hyclib/lib/python3.9/site-packages/IPython/core/interactiveshell.py\", line 3221, in run_cell_async\n",
      "    has_raised = await self.run_ast_nodes(code_ast.body, cell_name,\n",
      "  File \"/Users/hoyinchau/opt/anaconda3/envs/hyclib/lib/python3.9/site-packages/IPython/core/interactiveshell.py\", line 3400, in run_ast_nodes\n",
      "    if await self.run_code(code, result, async_=asy):\n",
      "  File \"/Users/hoyinchau/opt/anaconda3/envs/hyclib/lib/python3.9/site-packages/IPython/core/interactiveshell.py\", line 3460, in run_code\n",
      "    exec(code_obj, self.user_global_ns, self.user_ns)\n",
      "  File \"/var/folders/yb/v18fv6tx4sd9pj5lv36gjd500000gn/T/ipykernel_85732/1434567679.py\", line 6, in <module>\n",
      "    func()\n",
      "  File \"/var/folders/yb/v18fv6tx4sd9pj5lv36gjd500000gn/T/ipykernel_85732/1434567679.py\", line 2, in func\n",
      "    warnings.warn(\"HI\")\n",
      "  File \"/Users/hoyinchau/opt/anaconda3/envs/hyclib/lib/python3.9/warnings.py\", line 109, in _showwarnmsg\n",
      "    sw(msg.message, msg.category, msg.filename, msg.lineno,\n",
      "  File \"/Users/hoyinchau/local_documents/research/hyclib/hyclib/warnings.py\", line 11, in _warn_with_traceback\n",
      "    traceback.print_stack(file=log)\n",
      "/var/folders/yb/v18fv6tx4sd9pj5lv36gjd500000gn/T/ipykernel_85732/1434567679.py:2: UserWarning: HI\n",
      "  warnings.warn(\"HI\")\n"
     ]
    }
   ],
   "source": [
    "def func():\n",
    "    warnings.warn(\"HI\")\n",
    "    return 1\n",
    "\n",
    "with lib.warnings.warn_with_traceback():\n",
    "    func()"
   ]
  },
  {
   "cell_type": "code",
   "execution_count": 26,
   "id": "ee58a72a-b71c-4e18-a8a6-643262c01b12",
   "metadata": {},
   "outputs": [
    {
     "name": "stderr",
     "output_type": "stream",
     "text": [
      "/var/folders/yb/v18fv6tx4sd9pj5lv36gjd500000gn/T/ipykernel_85732/540182511.py:2: UserWarning: HI\n",
      "  warnings.warn(\"HI\")\n"
     ]
    },
    {
     "data": {
      "text/plain": [
       "1"
      ]
     },
     "execution_count": 26,
     "metadata": {},
     "output_type": "execute_result"
    }
   ],
   "source": [
    "func()"
   ]
  },
  {
   "cell_type": "code",
   "execution_count": null,
   "id": "158e0f70-acb4-43d9-8f98-432e0b215f72",
   "metadata": {},
   "outputs": [],
   "source": []
  }
 ],
 "metadata": {
  "kernelspec": {
   "display_name": "Python [conda env:hyclib]",
   "language": "python",
   "name": "conda-env-hyclib-py"
  },
  "language_info": {
   "codemirror_mode": {
    "name": "ipython",
    "version": 3
   },
   "file_extension": ".py",
   "mimetype": "text/x-python",
   "name": "python",
   "nbconvert_exporter": "python",
   "pygments_lexer": "ipython3",
   "version": "3.9.16"
  }
 },
 "nbformat": 4,
 "nbformat_minor": 5
}
