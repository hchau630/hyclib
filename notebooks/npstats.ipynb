{
 "cells": [
  {
   "cell_type": "code",
   "execution_count": 1,
   "id": "d957f3d5-850f-49c9-8132-07d897e1f7be",
   "metadata": {},
   "outputs": [],
   "source": [
    "%load_ext autoreload\n",
    "%autoreload 2"
   ]
  },
  {
   "cell_type": "code",
   "execution_count": 2,
   "id": "3baeb993-e2eb-4a86-b034-872f034ec0cd",
   "metadata": {},
   "outputs": [],
   "source": [
    "import numpy as np\n",
    "import scipy.stats as stats\n",
    "\n",
    "import hyclib as lib"
   ]
  },
  {
   "cell_type": "code",
   "execution_count": 4,
   "id": "d9e5cd9a-4ce4-4e19-a509-ce2c324478c6",
   "metadata": {},
   "outputs": [
    {
     "data": {
      "text/plain": [
       "array([1., 0.])"
      ]
     },
     "execution_count": 4,
     "metadata": {},
     "output_type": "execute_result"
    }
   ],
   "source": [
    "lib.np.bincount(np.array([0,1,]), np.array([1.0,np.nan,]), nan_policy='omit')"
   ]
  },
  {
   "cell_type": "code",
   "execution_count": 3,
   "id": "e488bcc3-c960-427f-b1bd-5141a1fe6123",
   "metadata": {},
   "outputs": [],
   "source": [
    "y = np.array(\n",
    "    [[[ 0.03476371,  0.17975505, -0.54908644, -0.64903577],\n",
    "      [-0.03724603,  1.81708173, -0.36515959,      np.inf],\n",
    "      [ 0.41836838,      np.nan, -0.49636453,  0.18997459]],\n",
    "\n",
    "     [[ 1.466666  ,  1.0255607 ,      np.nan, -1.31296034],\n",
    "      [ 1.08370192, -0.09796155, -0.05370452, -0.34803141],\n",
    "      [ 0.13195273, -1.43293285,  0.82484756,  0.83380857]]]\n",
    ")\n",
    "\n",
    "yerr = np.array(\n",
    "    [[[ 0.49388935,  0.99288461,  2.16113518,  3.01975125],\n",
    "      [-1.50622019,  0.34152895,  0.2847713 ,  1.57976904],\n",
    "      [-0.51299135,      np.nan, -0.3417016 , -1.43069183]],\n",
    "\n",
    "     [[ 0.95822919,  1.41162136,      np.inf,  0.36485372],\n",
    "      [-1.15548473, -0.08944152,  0.60378143,      np.nan],\n",
    "      [-1.15460362, -0.007127  , -0.51625072,  0.18837434]]]\n",
    ")"
   ]
  },
  {
   "cell_type": "code",
   "execution_count": 4,
   "id": "bcb7e1c1-1ecc-4ff3-9db6-8ca58ad164ce",
   "metadata": {},
   "outputs": [
    {
     "name": "stdout",
     "output_type": "stream",
     "text": [
      "array([[[ 0.03476371,  0.17975505, -0.54908644, -0.64903577],\n",
      "        [-0.03724603,  1.81708173, -0.36515959,         inf],\n",
      "        [ 0.41836838,         nan, -0.49636453,  0.18997459]],\n",
      "\n",
      "       [[ 1.466666  ,  1.0255607 ,         nan, -1.31296034],\n",
      "        [ 1.08370192, -0.09796155, -0.05370452, -0.34803141],\n",
      "        [ 0.13195273, -1.43293285,  0.82484756,  0.83380857]]])\n",
      "array([[[ 0.49388935,  0.99288461,  2.16113518,  3.01975125],\n",
      "        [-1.50622019,  0.34152895,  0.2847713 ,  1.57976904],\n",
      "        [-0.51299135,         nan, -0.3417016 , -1.43069183]],\n",
      "\n",
      "       [[ 0.95822919,  1.41162136,         inf,  0.36485372],\n",
      "        [-1.15548473, -0.08944152,  0.60378143,         nan],\n",
      "        [-1.15460362, -0.007127  , -0.51625072,  0.18837434]]])\n",
      "(2, 3, 4)\n",
      "24\n",
      "22\n",
      "[[3 3 3 3]\n",
      " [3 3 3 3]]\n",
      "[[3 2 3 3]\n",
      " [3 3 2 3]]\n",
      "[12 12]\n",
      "[11 11]\n"
     ]
    }
   ],
   "source": [
    "print(repr(y))\n",
    "print(repr(yerr))\n",
    "print(y.shape)\n",
    "for axis in [None, 1, (1,2)]:\n",
    "    # print(lib.np.mean(y, axis=axis))\n",
    "    # print(lib.np.nanmean(y, axis=axis))\n",
    "    # print(lib.np.sem(y, axis=axis))\n",
    "    # print(stats.sem(y, axis=axis))\n",
    "    # print(lib.np.nansem(y, axis=axis))\n",
    "    # print(np.array(stats.sem(y, axis=axis, nan_policy='omit')))\n",
    "    print(lib.np.count(y, axis=axis))\n",
    "    print(lib.np.nancount(y, axis=axis))\n",
    "    # print(lib.np.meanerr(y, yerr, axis=axis))\n",
    "    # print(lib.np.nanmeanerr(y, yerr, axis=axis))"
   ]
  },
  {
   "cell_type": "code",
   "execution_count": 91,
   "id": "7398bf36-8998-41fb-8074-0f92e2287e00",
   "metadata": {},
   "outputs": [
    {
     "name": "stdout",
     "output_type": "stream",
     "text": [
      "0.29033110512231797\n"
     ]
    }
   ],
   "source": [
    "hi = np.array([[ 1.466666  ,  1.0255607 ,         np.nan, -1.31296034],\n",
    "[ 1.08370192, -0.09796155, -0.05370452, -0.34803141],\n",
    "[ 0.13195273, -1.43293285,  0.82484756,  0.83380857]])\n",
    "hi = hi[~np.isnan(hi)]\n",
    "print(np.std(hi, ddof=1)/len(hi)**0.5)"
   ]
  },
  {
   "cell_type": "code",
   "execution_count": 68,
   "id": "f045d607-383f-4fcb-8fdc-25f73dcc5edc",
   "metadata": {},
   "outputs": [
    {
     "data": {
      "text/plain": [
       "0.5249909219365023"
      ]
     },
     "execution_count": 68,
     "metadata": {},
     "output_type": "execute_result"
    }
   ],
   "source": [
    "(0.99288461**2 + 0.34152895**2)**0.5/2"
   ]
  },
  {
   "cell_type": "code",
   "execution_count": 65,
   "id": "109a0689-6f7f-4a96-a907-f82fa13889e8",
   "metadata": {},
   "outputs": [
    {
     "data": {
      "text/plain": [
       "0.5553563496612764"
      ]
     },
     "execution_count": 65,
     "metadata": {},
     "output_type": "execute_result"
    }
   ],
   "source": [
    "(0.49388935**2 + 1.50622019**2 + 0.51299135**2)**0.5/3"
   ]
  },
  {
   "cell_type": "code",
   "execution_count": 64,
   "id": "67c2b718-63ba-4bb9-8874-6c3098c692e7",
   "metadata": {},
   "outputs": [
    {
     "name": "stdout",
     "output_type": "stream",
     "text": [
      "2.7757860759818813\n"
     ]
    }
   ],
   "source": [
    "print((0.49388935**2 + 1.50622019**2 + 0.51299135**2))"
   ]
  },
  {
   "cell_type": "code",
   "execution_count": 63,
   "id": "51ea5a73-24da-4302-90a7-4b088e24f8a4",
   "metadata": {},
   "outputs": [
    {
     "name": "stdout",
     "output_type": "stream",
     "text": [
      "0.24392669004342252 2.2686992607636363 0.26316012517482246\n"
     ]
    }
   ],
   "source": [
    "print(0.49388935**2, 1.50622019**2, 0.51299135**2)"
   ]
  },
  {
   "cell_type": "code",
   "execution_count": 61,
   "id": "4c81834a-7f1b-4251-bdaf-09c592d3030e",
   "metadata": {},
   "outputs": [
    {
     "name": "stdout",
     "output_type": "stream",
     "text": [
      "[[[2.43926690e-01 9.85819849e-01 4.67050527e+00 9.11889761e+00]\n",
      "  [2.26869926e+00 1.16642024e-01 8.10946933e-02 2.49567022e+00]\n",
      "  [2.63160125e-01            nan 1.16759983e-01 2.04687911e+00]]\n",
      "\n",
      " [[9.18203181e-01 1.99267486e+00            nan 1.33118237e-01]\n",
      "  [1.33514496e+00 7.99978550e-03 3.64552015e-01            nan]\n",
      "  [1.33310952e+00 5.07941290e-05 2.66514806e-01 3.54848920e-02]]]\n"
     ]
    }
   ],
   "source": [
    "print(yerr**2)"
   ]
  },
  {
   "cell_type": "code",
   "execution_count": 58,
   "id": "8a4d9348-0459-4091-b740-64d1f2fbe42d",
   "metadata": {},
   "outputs": [
    {
     "name": "stdout",
     "output_type": "stream",
     "text": [
      "[[0.55535635        nan 0.73547868 1.23204649]\n",
      " [0.63126484 0.47149001        nan        nan]]\n"
     ]
    }
   ],
   "source": [
    "print((yerr**2).sum(axis=1)**0.5/3)"
   ]
  },
  {
   "cell_type": "code",
   "execution_count": null,
   "id": "328acc4a-3dc9-4da5-8698-b52a5c8b79d6",
   "metadata": {},
   "outputs": [],
   "source": []
  }
 ],
 "metadata": {
  "kernelspec": {
   "display_name": "Python [conda env:anaconda3-hyclib_nightly]",
   "language": "python",
   "name": "conda-env-anaconda3-hyclib_nightly-py"
  },
  "language_info": {
   "codemirror_mode": {
    "name": "ipython",
    "version": 3
   },
   "file_extension": ".py",
   "mimetype": "text/x-python",
   "name": "python",
   "nbconvert_exporter": "python",
   "pygments_lexer": "ipython3",
   "version": "3.9.16"
  }
 },
 "nbformat": 4,
 "nbformat_minor": 5
}
