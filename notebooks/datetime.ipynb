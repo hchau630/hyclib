{
 "cells": [
  {
   "cell_type": "code",
   "execution_count": 1,
   "id": "fc8134f6-3cf1-4687-af90-387f5dd9e506",
   "metadata": {},
   "outputs": [],
   "source": [
    "%load_ext autoreload\n",
    "%autoreload 2"
   ]
  },
  {
   "cell_type": "code",
   "execution_count": 2,
   "id": "71c17142-4246-47e1-afeb-c9c1462960f4",
   "metadata": {},
   "outputs": [],
   "source": [
    "import datetime\n",
    "\n",
    "import hyclib as lib"
   ]
  },
  {
   "cell_type": "code",
   "execution_count": 70,
   "id": "51ac7e2f-b5b8-4e2c-bc8a-5b74b3a8ad8a",
   "metadata": {},
   "outputs": [
    {
     "name": "stdout",
     "output_type": "stream",
     "text": [
      "-4 days, 10:05:12.150005\n",
      "-86h312s\n",
      "-4 days, 10:05:12.150005\n",
      "-1 weeks 3 days 10:05:12.150005\n",
      "-1 weeks 3 days-10h%312s\n"
     ]
    }
   ],
   "source": [
    "# td = datetime.timedelta(seconds=-12, milliseconds=150, microseconds=5)\n",
    "td = datetime.timedelta(days=-4, hours=10, minutes=5, seconds=12, milliseconds=150, microseconds=5)\n",
    "# td = datetime.datetime(year=2021, month=3, day=5, hour=13, minute=5, second=12, microsecond=150005)\n",
    "# td = datetime.timedelta(days=2, hours=1, minutes=5, seconds=12)\n",
    "print(str(td))\n",
    "print(lib.datetime.strftime(td, '%Hh%Ss'))\n",
    "print(lib.datetime.strftime(td, '%d days, %H:%M:%S.%f'))\n",
    "print(lib.datetime.strftime(td, '%w weeks %d days %H:%M:%S.%f'))\n",
    "print(lib.datetime.strftime(td, '%w weeks %d days-%Hh%%%Ss'))"
   ]
  },
  {
   "cell_type": "code",
   "execution_count": 62,
   "id": "af026bb8-139b-4333-b3c9-6820e9ee97a6",
   "metadata": {},
   "outputs": [],
   "source": [
    "from string import Formatter\n",
    "from datetime import timedelta\n",
    "\n",
    "def strfdelta(tdelta, fmt='{D:02}d {H:02}h {M:02}m {S:02}s', inputtype='timedelta'):\n",
    "    \"\"\"Convert a datetime.timedelta object or a regular number to a custom-\n",
    "    formatted string, just like the stftime() method does for datetime.datetime\n",
    "    objects.\n",
    "\n",
    "    The fmt argument allows custom formatting to be specified.  Fields can \n",
    "    include seconds, minutes, hours, days, and weeks.  Each field is optional.\n",
    "\n",
    "    Some examples:\n",
    "        '{D:02}d {H:02}h {M:02}m {S:02}s' --> '05d 08h 04m 02s' (default)\n",
    "        '{W}w {D}d {H}:{M:02}:{S:02}'     --> '4w 5d 8:04:02'\n",
    "        '{D:2}d {H:2}:{M:02}:{S:02}'      --> ' 5d  8:04:02'\n",
    "        '{H}h {S}s'                       --> '72h 800s'\n",
    "\n",
    "    The inputtype argument allows tdelta to be a regular number instead of the  \n",
    "    default, which is a datetime.timedelta object.  Valid inputtype strings: \n",
    "        's', 'seconds', \n",
    "        'm', 'minutes', \n",
    "        'h', 'hours', \n",
    "        'd', 'days', \n",
    "        'w', 'weeks'\n",
    "    \"\"\"\n",
    "\n",
    "    # Convert tdelta to integer seconds.\n",
    "    if inputtype == 'timedelta':\n",
    "        remainder = int(tdelta.total_seconds())\n",
    "    elif inputtype in ['s', 'seconds']:\n",
    "        remainder = int(tdelta)\n",
    "    elif inputtype in ['m', 'minutes']:\n",
    "        remainder = int(tdelta)*60\n",
    "    elif inputtype in ['h', 'hours']:\n",
    "        remainder = int(tdelta)*3600\n",
    "    elif inputtype in ['d', 'days']:\n",
    "        remainder = int(tdelta)*86400\n",
    "    elif inputtype in ['w', 'weeks']:\n",
    "        remainder = int(tdelta)*604800\n",
    "\n",
    "    f = Formatter()\n",
    "    desired_fields = [field_tuple[1] for field_tuple in f.parse(fmt)]\n",
    "    possible_fields = ('W', 'D', 'H', 'M', 'S')\n",
    "    constants = {'W': 604800, 'D': 86400, 'H': 3600, 'M': 60, 'S': 1}\n",
    "    values = {}\n",
    "    for field in possible_fields:\n",
    "        if field in desired_fields and field in constants:\n",
    "            values[field], remainder = divmod(remainder, constants[field])\n",
    "    return f.format(fmt, **values)\n"
   ]
  },
  {
   "cell_type": "code",
   "execution_count": 69,
   "id": "3bf74822-4018-45ee-b58e-939c6ae4f26c",
   "metadata": {},
   "outputs": [
    {
     "name": "stdout",
     "output_type": "stream",
     "text": [
      "-4 days, 10:05:12.150005\n",
      "-86h313s\n",
      "-4 days, 10:5:13\n",
      "%w weeks %d days %H:%M:%S.%f\n",
      "%w weeks %d days-%Hh%%%Ss\n"
     ]
    }
   ],
   "source": [
    "# td = datetime.timedelta(seconds=-12, milliseconds=150, microseconds=5)\n",
    "td = datetime.timedelta(days=-4, hours=10, minutes=5, seconds=12, milliseconds=150, microseconds=5)\n",
    "# td = datetime.datetime(year=2021, month=3, day=5, hour=13, minute=5, second=12, microsecond=150005)\n",
    "# td = datetime.timedelta(days=2, hours=1, minutes=5, seconds=12)\n",
    "print(str(td))\n",
    "print(strfdelta(td, '{H}h{S}s'))\n",
    "print(strfdelta(td, '{D} days, {H}:{M}:{S}'))\n",
    "print(strfdelta(td, '%w weeks %d days %H:%M:%S.%f'))\n",
    "print(strfdelta(td, '%w weeks %d days-%Hh%%%Ss'))"
   ]
  },
  {
   "cell_type": "code",
   "execution_count": null,
   "id": "4fd7d3b7-3cb5-41b7-ab09-4ed0c6536045",
   "metadata": {},
   "outputs": [],
   "source": []
  }
 ],
 "metadata": {
  "kernelspec": {
   "display_name": "Python [conda env:anaconda3-hyclib]",
   "language": "python",
   "name": "conda-env-anaconda3-hyclib-py"
  },
  "language_info": {
   "codemirror_mode": {
    "name": "ipython",
    "version": 3
   },
   "file_extension": ".py",
   "mimetype": "text/x-python",
   "name": "python",
   "nbconvert_exporter": "python",
   "pygments_lexer": "ipython3",
   "version": "3.9.16"
  }
 },
 "nbformat": 4,
 "nbformat_minor": 5
}
