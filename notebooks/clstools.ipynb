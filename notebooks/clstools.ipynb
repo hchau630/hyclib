{
 "cells": [
  {
   "cell_type": "code",
   "execution_count": 1,
   "id": "fc8134f6-3cf1-4687-af90-387f5dd9e506",
   "metadata": {},
   "outputs": [],
   "source": [
    "%load_ext autoreload\n",
    "%autoreload 2"
   ]
  },
  {
   "cell_type": "code",
   "execution_count": null,
   "id": "71c17142-4246-47e1-afeb-c9c1462960f4",
   "metadata": {},
   "outputs": [],
   "source": [
    "import hyclib as lib"
   ]
  },
  {
   "cell_type": "code",
   "execution_count": null,
   "id": "ddf101d2-1961-400c-a0c0-25285753fed7",
   "metadata": {},
   "outputs": [],
   "source": [
    "class A:\n",
    "    def __init__(self, a):\n",
    "        self.a = a\n",
    "\n",
    "@lib.clstools.attr_repr\n",
    "@lib.clstools.attrs('b', 'f', e=3)\n",
    "class B(A):\n",
    "    def __pre_init__(self):\n",
    "        super().__init__(100)\n",
    "        \n",
    "@lib.clstools.attr_str\n",
    "@lib.clstools.attrs('b', 'f', e=3)\n",
    "class C(A):\n",
    "    def __pre_init__(self):\n",
    "        super().__init__(100)\n",
    "\n",
    "b = B(123, f=2)\n",
    "print(b)\n",
    "c = C(123, f=2)\n",
    "print(c)"
   ]
  },
  {
   "cell_type": "code",
   "execution_count": null,
   "id": "51ac7e2f-b5b8-4e2c-bc8a-5b74b3a8ad8a",
   "metadata": {},
   "outputs": [],
   "source": []
  }
 ],
 "metadata": {
  "kernelspec": {
   "display_name": "Python [conda env:anaconda3-hyclib]",
   "language": "python",
   "name": "conda-env-anaconda3-hyclib-py"
  },
  "language_info": {
   "codemirror_mode": {
    "name": "ipython",
    "version": 3
   },
   "file_extension": ".py",
   "mimetype": "text/x-python",
   "name": "python",
   "nbconvert_exporter": "python",
   "pygments_lexer": "ipython3",
   "version": "3.9.16"
  }
 },
 "nbformat": 4,
 "nbformat_minor": 5
}
