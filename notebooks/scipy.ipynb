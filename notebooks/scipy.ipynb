{
 "cells": [
  {
   "cell_type": "code",
   "execution_count": 1,
   "id": "0ec617d2-15c1-4219-a3a7-2667352a2ab7",
   "metadata": {},
   "outputs": [],
   "source": [
    "%load_ext autoreload\n",
    "%autoreload 2"
   ]
  },
  {
   "cell_type": "code",
   "execution_count": 2,
   "id": "c69c8f30-754b-4c8c-971b-24b00eef3fcc",
   "metadata": {},
   "outputs": [],
   "source": [
    "import logging\n",
    "\n",
    "import numpy as np\n",
    "import matplotlib.pyplot as plt\n",
    "import seaborn as sns\n",
    "from scipy import stats as spstats\n",
    "import torch\n",
    "\n",
    "import hyclib as lib\n",
    "from hyclib.sp import stats"
   ]
  },
  {
   "cell_type": "code",
   "execution_count": 3,
   "id": "0e2edfdf-6ffd-49de-8f0f-73d416019c6d",
   "metadata": {},
   "outputs": [],
   "source": [
    "lib.logging.basic_config()\n",
    "logging.captureWarnings(True) \n",
    "logger = logging.getLogger(__name__)"
   ]
  },
  {
   "cell_type": "code",
   "execution_count": 29,
   "id": "622aec53-294c-4010-980d-c48bf6221916",
   "metadata": {},
   "outputs": [],
   "source": [
    "M, N, D = 100, 100000, 2\n",
    "bins = (10,20)\n",
    "\n",
    "arr = np.random.normal(size=(N,D))\n",
    "indices_0 = np.random.randint(N, size=M)\n",
    "indices_1 = np.random.randint(D, size=M)\n",
    "arr[indices_0, indices_1] = np.nan\n",
    "t = torch.from_numpy(arr)"
   ]
  },
  {
   "cell_type": "code",
   "execution_count": 30,
   "id": "5d607b74-e3cd-49e6-90ab-68a40b0dd41b",
   "metadata": {},
   "outputs": [
    {
     "name": "stdout",
     "output_type": "stream",
     "text": [
      "10.6 ms ± 50.4 µs per loop (mean ± std. dev. of 7 runs, 100 loops each)\n"
     ]
    }
   ],
   "source": [
    "%%timeit\n",
    "lib.sp.stats.bin_dd(arr, bins=bins, nan_policy='omit')"
   ]
  },
  {
   "cell_type": "code",
   "execution_count": 31,
   "id": "74bc9042-2274-4d3c-9514-5f2a286a336f",
   "metadata": {},
   "outputs": [
    {
     "name": "stderr",
     "output_type": "stream",
     "text": [
      "WARNING: py.warnings: /Users/hoyinchau/local_documents/research/hyclib/hyclib/pt/stats.py:76: UserWarning: torch.searchsorted(): input value tensor is non-contiguous, this will lower the performance due to extra data copy when converting non-contiguous tensor to contiguous, please use contiguous input value tensor if possible. This message will only appear once per program. (Triggered internally at /Users/runner/work/pytorch/pytorch/pytorch/aten/src/ATen/native/BucketizationUtils.h:35.)\n",
      "  torch.bucketize(sample[:, i], edges[i], right=True) # `right` argument has opposite meaning in torch.bucketize vs np.digitize\n",
      "\n"
     ]
    },
    {
     "name": "stdout",
     "output_type": "stream",
     "text": [
      "2.25 ms ± 92.6 µs per loop (mean ± std. dev. of 7 runs, 100 loops each)\n"
     ]
    }
   ],
   "source": [
    "%%timeit\n",
    "lib.pt.stats.bin_dd(t, bins=bins, nan_policy='omit')"
   ]
  },
  {
   "cell_type": "code",
   "execution_count": 34,
   "id": "de25ce6f-08b1-40e8-b96c-7ec5a51688eb",
   "metadata": {},
   "outputs": [
    {
     "name": "stdout",
     "output_type": "stream",
     "text": [
      "8.06 ms ± 50.5 µs per loop (mean ± std. dev. of 7 runs, 100 loops each)\n"
     ]
    }
   ],
   "source": [
    "%%timeit\n",
    "for i in range(D):\n",
    "    lib.sp.stats.bin(arr[:, i], bins=bins[i], nan_policy='omit')"
   ]
  },
  {
   "cell_type": "code",
   "execution_count": 35,
   "id": "108ab722-1fcb-4daa-8c3e-b6cced1b80d0",
   "metadata": {},
   "outputs": [
    {
     "name": "stdout",
     "output_type": "stream",
     "text": [
      "2.22 ms ± 4.91 µs per loop (mean ± std. dev. of 7 runs, 100 loops each)\n"
     ]
    }
   ],
   "source": [
    "%%timeit\n",
    "for i in range(D):\n",
    "    lib.pt.stats.bin(t[:, i], bins=bins[i], nan_policy='omit')"
   ]
  },
  {
   "cell_type": "code",
   "execution_count": 189,
   "id": "35d8b4c9-d3f2-447b-b31b-bc0d41d1022d",
   "metadata": {},
   "outputs": [],
   "source": [
    "M, N, O = 100000, 1000000, 1000\n",
    "x = np.random.randint(M, size=N).astype(float)\n",
    "y = np.random.randint(M, size=N).astype(float)\n",
    "nan_x = np.random.randint(N, size=O)\n",
    "nan_y = np.random.randint(N, size=O)\n",
    "x[nan_x] = np.nan\n",
    "y[nan_y] = np.nan\n",
    "z = np.stack([x,y], axis=1)"
   ]
  },
  {
   "cell_type": "code",
   "execution_count": 143,
   "id": "46cc8029-1bfe-482f-b5e1-d37ae5a1a308",
   "metadata": {},
   "outputs": [],
   "source": [
    "def unique_1(z):\n",
    "    return np.unique(z, axis=0)\n",
    "\n",
    "def unique_2(z):\n",
    "    x, y = z[:,0], z[:,1]\n",
    "    ux, x_inv = np.unique(x, return_inverse=True)\n",
    "    uy, y_inv = np.unique(y, return_inverse=True)\n",
    "    x_dtype = np.min_scalar_type(x_inv.max())\n",
    "    y_dtype = np.min_scalar_type(y_inv.max())\n",
    "    dtype = np.result_type(x_dtype, y_dtype)\n",
    "    nbytes = dtype.itemsize\n",
    "    dtype = np.dtype(f'u{2 * nbytes}')\n",
    "    x_inv, y_inv = x_inv.astype(dtype), y_inv.astype(dtype)\n",
    "    xy = (x_inv << (nbytes * 8)) + y_inv\n",
    "    _, idx = np.unique(xy, return_index=True)\n",
    "    return np.stack([ux[x_inv[idx]], uy[y_inv[idx]]], axis=1)"
   ]
  },
  {
   "cell_type": "code",
   "execution_count": 144,
   "id": "d11e750d-2b0d-437e-9f3b-5f8a821cc59c",
   "metadata": {},
   "outputs": [
    {
     "name": "stdout",
     "output_type": "stream",
     "text": [
      "803 ms ± 5.54 ms per loop (mean ± std. dev. of 7 runs, 1 loop each)\n",
      "389 ms ± 9.42 ms per loop (mean ± std. dev. of 7 runs, 1 loop each)\n",
      "782 ms ± 7.82 ms per loop (mean ± std. dev. of 7 runs, 1 loop each)\n"
     ]
    }
   ],
   "source": [
    "%timeit unique_1(z)\n",
    "%timeit unique_2(z)\n",
    "%timeit lib.np.unique_rows(z)"
   ]
  },
  {
   "cell_type": "code",
   "execution_count": 137,
   "id": "603f2685-4c44-44bc-8884-1779aa083854",
   "metadata": {},
   "outputs": [
    {
     "data": {
      "text/plain": [
       "array([[0.000e+00, 7.939e+03],\n",
       "       [2.000e+00, 6.190e+02],\n",
       "       [3.000e+00, 4.974e+03],\n",
       "       ...,\n",
       "       [      nan, 9.374e+03],\n",
       "       [      nan, 9.543e+03],\n",
       "       [      nan,       nan]])"
      ]
     },
     "execution_count": 137,
     "metadata": {},
     "output_type": "execute_result"
    }
   ],
   "source": [
    "unique_2(z)"
   ]
  },
  {
   "cell_type": "code",
   "execution_count": 136,
   "id": "a5da1131-98d3-4f7e-880d-adacbde1b596",
   "metadata": {},
   "outputs": [
    {
     "data": {
      "text/plain": [
       "array([[0.000e+00, 7.939e+03],\n",
       "       [2.000e+00, 6.190e+02],\n",
       "       [3.000e+00, 4.974e+03],\n",
       "       ...,\n",
       "       [      nan, 9.374e+03],\n",
       "       [      nan, 9.543e+03],\n",
       "       [      nan,       nan]])"
      ]
     },
     "execution_count": 136,
     "metadata": {},
     "output_type": "execute_result"
    }
   ],
   "source": [
    "lib.np.unique_rows(z)"
   ]
  },
  {
   "cell_type": "code",
   "execution_count": 10,
   "id": "f650d7ba-5082-45a9-aa30-bed5360b5acf",
   "metadata": {},
   "outputs": [
    {
     "ename": "ValueError",
     "evalue": "cannot convert float NaN to integer",
     "output_type": "error",
     "traceback": [
      "\u001b[0;31m---------------------------------------------------------------------------\u001b[0m",
      "\u001b[0;31mValueError\u001b[0m                                Traceback (most recent call last)",
      "Cell \u001b[0;32mIn[10], line 1\u001b[0m\n\u001b[0;32m----> 1\u001b[0m \u001b[43mspstats\u001b[49m\u001b[38;5;241;43m.\u001b[39;49m\u001b[43mbinned_statistic\u001b[49m\u001b[43m(\u001b[49m\u001b[43m[\u001b[49m\u001b[38;5;241;43m1\u001b[39;49m\u001b[43m,\u001b[49m\u001b[38;5;241;43m2\u001b[39;49m\u001b[43m,\u001b[49m\u001b[38;5;241;43m3\u001b[39;49m\u001b[43m,\u001b[49m\u001b[38;5;241;43m4\u001b[39;49m\u001b[43m,\u001b[49m\u001b[38;5;241;43m5\u001b[39;49m\u001b[43m,\u001b[49m\u001b[38;5;241;43m6\u001b[39;49m\u001b[43m]\u001b[49m\u001b[43m,\u001b[49m\u001b[43m \u001b[49m\u001b[43m[\u001b[49m\u001b[38;5;241;43m0\u001b[39;49m\u001b[43m,\u001b[49m\u001b[38;5;241;43m1\u001b[39;49m\u001b[43m,\u001b[49m\u001b[38;5;241;43m2\u001b[39;49m\u001b[43m,\u001b[49m\u001b[38;5;241;43m3\u001b[39;49m\u001b[43m,\u001b[49m\u001b[38;5;241;43m4\u001b[39;49m\u001b[43m,\u001b[49m\u001b[38;5;241;43m5\u001b[39;49m\u001b[43m]\u001b[49m\u001b[43m,\u001b[49m\u001b[43m \u001b[49m\u001b[43mbins\u001b[49m\u001b[38;5;241;43m=\u001b[39;49m\u001b[43m[\u001b[49m\u001b[38;5;241;43m4\u001b[39;49m\u001b[43m,\u001b[49m\u001b[38;5;241;43m2\u001b[39;49m\u001b[43m,\u001b[49m\u001b[38;5;241;43m0\u001b[39;49m\u001b[43m]\u001b[49m\u001b[43m)\u001b[49m\n",
      "File \u001b[0;32m~/opt/anaconda3/envs/hyclib/lib/python3.9/site-packages/scipy/stats/_binned_statistic.py:184\u001b[0m, in \u001b[0;36mbinned_statistic\u001b[0;34m(x, values, statistic, bins, range)\u001b[0m\n\u001b[1;32m    181\u001b[0m     \u001b[38;5;28;01mif\u001b[39;00m \u001b[38;5;28mlen\u001b[39m(\u001b[38;5;28mrange\u001b[39m) \u001b[38;5;241m==\u001b[39m \u001b[38;5;241m2\u001b[39m:\n\u001b[1;32m    182\u001b[0m         \u001b[38;5;28mrange\u001b[39m \u001b[38;5;241m=\u001b[39m [\u001b[38;5;28mrange\u001b[39m]\n\u001b[0;32m--> 184\u001b[0m medians, edges, binnumbers \u001b[38;5;241m=\u001b[39m \u001b[43mbinned_statistic_dd\u001b[49m\u001b[43m(\u001b[49m\n\u001b[1;32m    185\u001b[0m \u001b[43m    \u001b[49m\u001b[43m[\u001b[49m\u001b[43mx\u001b[49m\u001b[43m]\u001b[49m\u001b[43m,\u001b[49m\u001b[43m \u001b[49m\u001b[43mvalues\u001b[49m\u001b[43m,\u001b[49m\u001b[43m \u001b[49m\u001b[43mstatistic\u001b[49m\u001b[43m,\u001b[49m\u001b[43m \u001b[49m\u001b[43mbins\u001b[49m\u001b[43m,\u001b[49m\u001b[43m \u001b[49m\u001b[38;5;28;43mrange\u001b[39;49m\u001b[43m)\u001b[49m\n\u001b[1;32m    187\u001b[0m \u001b[38;5;28;01mreturn\u001b[39;00m BinnedStatisticResult(medians, edges[\u001b[38;5;241m0\u001b[39m], binnumbers)\n",
      "File \u001b[0;32m~/opt/anaconda3/envs/hyclib/lib/python3.9/site-packages/scipy/stats/_binned_statistic.py:584\u001b[0m, in \u001b[0;36mbinned_statistic_dd\u001b[0;34m(sample, values, statistic, bins, range, expand_binnumbers, binned_statistic_result)\u001b[0m\n\u001b[1;32m    582\u001b[0m \u001b[38;5;28;01mif\u001b[39;00m binned_statistic_result \u001b[38;5;129;01mis\u001b[39;00m \u001b[38;5;28;01mNone\u001b[39;00m:\n\u001b[1;32m    583\u001b[0m     nbin, edges, dedges \u001b[38;5;241m=\u001b[39m _bin_edges(sample, bins, \u001b[38;5;28mrange\u001b[39m)\n\u001b[0;32m--> 584\u001b[0m     binnumbers \u001b[38;5;241m=\u001b[39m \u001b[43m_bin_numbers\u001b[49m\u001b[43m(\u001b[49m\u001b[43msample\u001b[49m\u001b[43m,\u001b[49m\u001b[43m \u001b[49m\u001b[43mnbin\u001b[49m\u001b[43m,\u001b[49m\u001b[43m \u001b[49m\u001b[43medges\u001b[49m\u001b[43m,\u001b[49m\u001b[43m \u001b[49m\u001b[43mdedges\u001b[49m\u001b[43m)\u001b[49m\n\u001b[1;32m    585\u001b[0m \u001b[38;5;28;01melse\u001b[39;00m:\n\u001b[1;32m    586\u001b[0m     edges \u001b[38;5;241m=\u001b[39m binned_statistic_result\u001b[38;5;241m.\u001b[39mbin_edges\n",
      "File \u001b[0;32m~/opt/anaconda3/envs/hyclib/lib/python3.9/site-packages/scipy/stats/_binned_statistic.py:784\u001b[0m, in \u001b[0;36m_bin_numbers\u001b[0;34m(sample, nbin, edges, dedges)\u001b[0m\n\u001b[1;32m    782\u001b[0m \u001b[38;5;28;01mif\u001b[39;00m dedges_min \u001b[38;5;241m==\u001b[39m \u001b[38;5;241m0\u001b[39m:\n\u001b[1;32m    783\u001b[0m     \u001b[38;5;28;01mraise\u001b[39;00m \u001b[38;5;167;01mValueError\u001b[39;00m(\u001b[38;5;124m'\u001b[39m\u001b[38;5;124mThe smallest edge difference is numerically 0.\u001b[39m\u001b[38;5;124m'\u001b[39m)\n\u001b[0;32m--> 784\u001b[0m decimal \u001b[38;5;241m=\u001b[39m \u001b[38;5;28;43mint\u001b[39;49m\u001b[43m(\u001b[49m\u001b[38;5;241;43m-\u001b[39;49m\u001b[43mnp\u001b[49m\u001b[38;5;241;43m.\u001b[39;49m\u001b[43mlog10\u001b[49m\u001b[43m(\u001b[49m\u001b[43mdedges_min\u001b[49m\u001b[43m)\u001b[49m\u001b[43m)\u001b[49m \u001b[38;5;241m+\u001b[39m \u001b[38;5;241m6\u001b[39m\n\u001b[1;32m    785\u001b[0m \u001b[38;5;66;03m# Find which points are on the rightmost edge.\u001b[39;00m\n\u001b[1;32m    786\u001b[0m on_edge \u001b[38;5;241m=\u001b[39m np\u001b[38;5;241m.\u001b[39mwhere((sample[:, i] \u001b[38;5;241m>\u001b[39m\u001b[38;5;241m=\u001b[39m edges[i][\u001b[38;5;241m-\u001b[39m\u001b[38;5;241m1\u001b[39m]) \u001b[38;5;241m&\u001b[39m\n\u001b[1;32m    787\u001b[0m                    (np\u001b[38;5;241m.\u001b[39maround(sample[:, i], decimal) \u001b[38;5;241m==\u001b[39m\n\u001b[1;32m    788\u001b[0m                     np\u001b[38;5;241m.\u001b[39maround(edges[i][\u001b[38;5;241m-\u001b[39m\u001b[38;5;241m1\u001b[39m], decimal)))[\u001b[38;5;241m0\u001b[39m]\n",
      "\u001b[0;31mValueError\u001b[0m: cannot convert float NaN to integer"
     ]
    }
   ],
   "source": [
    "spstats.binned_statistic([1,2,3,4,5,6], [0,1,2,3,4,5], bins=[4,2,0])"
   ]
  },
  {
   "cell_type": "code",
   "execution_count": 4,
   "id": "9c3ee17e-4e53-4ace-a50a-c919f2cbae51",
   "metadata": {},
   "outputs": [
    {
     "name": "stdout",
     "output_type": "stream",
     "text": [
      "{'x': array([ 0.47368421,  1.42105263,  2.36842105,  3.31578947,  4.26315789,\n",
      "        5.21052632,  6.15789474,  7.10526316,  8.05263158,  9.        ,\n",
      "        9.94736842, 10.89473684, 11.84210526, 12.78947368, 13.73684211,\n",
      "       14.68421053, 15.63157895, 16.57894737, 17.52631579]), 'y': array([-0.01408797, -0.0227798 ,  0.00175112,  0.03305718,  0.0978829 ,\n",
      "        0.04776662,  0.08029443,  0.06956061,  0.33476553, -0.06137414,\n",
      "       -0.07059   , -0.10609316, -0.02900036, -0.0187883 , -0.0584314 ,\n",
      "       -0.02033019,  0.05125035, -0.02552311, -0.01305337]), 'yerr': array([0.00411313, 0.00252236, 0.02032855, 0.00049519, 0.01195727,\n",
      "       0.00516345, 0.0079559 , 0.01241825, 0.00187416, 0.01666851,\n",
      "       0.03017907, 0.01228739, 0.01832908, 0.02207788, 0.0064688 ,\n",
      "       0.01349114, 0.00602944, 0.00686532, 0.01387614])}\n"
     ]
    },
    {
     "data": {
      "image/png": "[encoded data removed]",
      "text/plain": [
       "<Figure size 426.7x320 with 1 Axes>"
      ]
     },
     "metadata": {},
     "output_type": "display_data"
    }
   ],
   "source": [
    "df = sns.load_dataset('fmri')\n",
    "signal_err = np.abs(np.random.normal(size=len(df['signal'])))\n",
    "signal_err[np.arange(100)] = np.nan\n",
    "df['signal_err'] = signal_err\n",
    "# print(df['timepoint'])\n",
    "sns.lineplot(df, x='timepoint', y='signal')\n",
    "lib.plot.lineplot(df, x='timepoint', y='signal', yerr='signal_err', weighted=True)\n",
    "\n",
    "result = stats.binned_mean(df['timepoint'], df['signal'], df['signal_err'], bins=len(df['timepoint'].unique()), weighted=True)\n",
    "print(result)\n",
    "plt.errorbar(**result)\n",
    "plt.show()"
   ]
  },
  {
   "cell_type": "code",
   "execution_count": 38,
   "id": "03d63e49-5a35-47b6-8d33-d33ebd153a9b",
   "metadata": {},
   "outputs": [
    {
     "name": "stdout",
     "output_type": "stream",
     "text": [
      "(16, 2)\n",
      "[[1 1 1 1 1 1 2 2 2 2 2 2 1 1 1 1]\n",
      " [1 1 1 1 2 2 3 4 5 5 3 4 2 2 3 3]]\n",
      "(2, 16)\n",
      "[array([ nan, 1.75, 7.25,  nan]), array([nan, 0.1, 2.3, 4.5, 6.7, 8.9, nan])]\n",
      "[array([-1. ,  4.5, 10. ]), array([-1. ,  1.2,  3.4,  5.6,  7.8, 10. ])]\n",
      "[1.75 1.75 1.75 1.75 1.75 1.75 7.25 7.25 7.25 7.25 7.25 7.25 1.75 1.75\n",
      " 1.75 1.75]\n",
      "[0.1 0.1 0.1 0.1 2.3 2.3 4.5 6.7 8.9 8.9 4.5 6.7 2.3 2.3 4.5 4.5]\n"
     ]
    }
   ],
   "source": [
    "x = np.array([-1,0,1,1,2,3,5,7,9,10,5,7,3,2,4,4])\n",
    "y = np.array([-1,0,1,1,2,3,5,7,9,10,5,7,3,2,4,4])\n",
    "bins = (2,5)\n",
    "sample = np.array([x,y]).T\n",
    "print(sample.shape)\n",
    "bin_nums, centers, edges = lib.sp.stats.digitize_dd(sample, bins)\n",
    "print(bin_nums)\n",
    "print(bin_nums.shape)\n",
    "print(centers)\n",
    "print(edges)\n",
    "print(centers[0][bin_nums[0]])\n",
    "print(centers[1][bin_nums[1]])"
   ]
  },
  {
   "cell_type": "code",
   "execution_count": null,
   "id": "b9f29e3a-2cc3-4993-8665-8dc2f9aa277f",
   "metadata": {},
   "outputs": [],
   "source": []
  }
 ],
 "metadata": {
  "kernelspec": {
   "display_name": "Python [conda env:anaconda3-hyclib]",
   "language": "python",
   "name": "conda-env-anaconda3-hyclib-py"
  },
  "language_info": {
   "codemirror_mode": {
    "name": "ipython",
    "version": 3
   },
   "file_extension": ".py",
   "mimetype": "text/x-python",
   "name": "python",
   "nbconvert_exporter": "python",
   "pygments_lexer": "ipython3",
   "version": "3.9.16"
  }
 },
 "nbformat": 4,
 "nbformat_minor": 5
}
