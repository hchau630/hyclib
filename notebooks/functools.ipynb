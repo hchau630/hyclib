{
 "cells": [
  {
   "cell_type": "code",
   "execution_count": 1,
   "id": "dc794f74-32de-44ca-92f0-44aa376acc83",
   "metadata": {},
   "outputs": [],
   "source": [
    "%load_ext autoreload\n",
    "%autoreload 2"
   ]
  },
  {
   "cell_type": "code",
   "execution_count": 10,
   "id": "aa4982d1-ebfa-4556-9ffd-81e07fe73d28",
   "metadata": {},
   "outputs": [],
   "source": [
    "import functools\n",
    "import pickle\n",
    "\n",
    "import hyclib as lib"
   ]
  },
  {
   "cell_type": "code",
   "execution_count": 26,
   "id": "d27d02e5-2564-43e6-a9b0-82bf247b1257",
   "metadata": {},
   "outputs": [
    {
     "name": "stdout",
     "output_type": "stream",
     "text": [
      "a=1, b=2, c=3, d=4, e=5, f=6\n",
      "a=2, b=3, c=1, d=4, e=5, f=6\n",
      "functools.partial(HI, 1, d=4)\n",
      "rpartial(HI, 1, d=4)\n",
      "a=1, b=2, c=3, d=4, e=5, f=6\n",
      "a=2, b=3, c=1, d=4, e=5, f=6\n",
      "functools.partial(HI, 1, 2, d=4, e=5)\n",
      "rpartial(HI, 2, 1, d=4, e=5)\n",
      "a=1, b=2, c=3, d=4, e=5, f=6\n",
      "a=3, b=2, c=1, d=4, e=5, f=6\n"
     ]
    }
   ],
   "source": [
    "class hi:\n",
    "    def __call__(self, a, b, c, d, e, f):\n",
    "        print(f'{a=}, {b=}, {c=}, {d=}, {e=}, {f=}')\n",
    "        \n",
    "    def __repr__(self):\n",
    "        return \"HI\"\n",
    "    \n",
    "lhi = functools.partial(hi(), 1, d=4)\n",
    "rhi = lib.functools.rpartial(hi(), 1, d=4)\n",
    "\n",
    "lhi(2, 3, e=5, f=6)\n",
    "rhi(2, 3, e=5, f=6)\n",
    "\n",
    "print(lhi)\n",
    "print(rhi)\n",
    "\n",
    "lhi2 = pickle.loads(pickle.dumps(lhi))\n",
    "rhi2 = pickle.loads(pickle.dumps(rhi))\n",
    "\n",
    "lhi2(2, 3, e=5, f=6)\n",
    "rhi2(2, 3, e=5, f=6)\n",
    "\n",
    "llhi = functools.partial(lhi, 2, e=5)\n",
    "rrhi = lib.functools.rpartial(rhi, 2, e=5)\n",
    "\n",
    "print(llhi)\n",
    "print(rrhi)\n",
    "\n",
    "llhi(3, f=6)\n",
    "rrhi(3, f=6)"
   ]
  },
  {
   "cell_type": "code",
   "execution_count": 3,
   "id": "17665acc-4d18-43ba-b45a-e6e8de005f2c",
   "metadata": {},
   "outputs": [
    {
     "name": "stderr",
     "output_type": "stream",
     "text": [
      "/var/folders/yb/v18fv6tx4sd9pj5lv36gjd500000gn/T/ipykernel_33210/2559684149.py:5: DeprecationWarning: Call to deprecated function deprecated_func. don't use this!\n",
      "  deprecated_func()\n"
     ]
    },
    {
     "data": {
      "text/plain": [
       "1"
      ]
     },
     "execution_count": 3,
     "metadata": {},
     "output_type": "execute_result"
    }
   ],
   "source": [
    "@lib.functools.deprecated(\"don't use this!\")\n",
    "def deprecated_func():\n",
    "    return 1\n",
    "\n",
    "deprecated_func()"
   ]
  },
  {
   "cell_type": "code",
   "execution_count": null,
   "id": "33c7da6b-31a5-4fca-bd81-499cb5ab3d6c",
   "metadata": {},
   "outputs": [],
   "source": []
  }
 ],
 "metadata": {
  "kernelspec": {
   "display_name": "Python [conda env:anaconda3-hyclib_nightly]",
   "language": "python",
   "name": "conda-env-anaconda3-hyclib_nightly-py"
  },
  "language_info": {
   "codemirror_mode": {
    "name": "ipython",
    "version": 3
   },
   "file_extension": ".py",
   "mimetype": "text/x-python",
   "name": "python",
   "nbconvert_exporter": "python",
   "pygments_lexer": "ipython3",
   "version": "3.9.16"
  }
 },
 "nbformat": 4,
 "nbformat_minor": 5
}
