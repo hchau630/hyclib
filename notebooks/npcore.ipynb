{
 "cells": [
  {
   "cell_type": "code",
   "execution_count": 1,
   "id": "215da489-0c23-4e50-a8fe-9942ed03ec2c",
   "metadata": {},
   "outputs": [],
   "source": [
    "%load_ext autoreload\n",
    "%autoreload 2"
   ]
  },
  {
   "cell_type": "code",
   "execution_count": 2,
   "id": "d9ad023f-ab35-4046-b2e6-7af7dfc44981",
   "metadata": {},
   "outputs": [],
   "source": [
    "import numpy as np\n",
    "import matplotlib.pyplot as plt\n",
    "import seaborn as sns\n",
    "import pandas as pd\n",
    "\n",
    "import hyclib as lib"
   ]
  },
  {
   "cell_type": "code",
   "execution_count": 3,
   "id": "30782c33-afba-47c8-b6f9-5680a6d6191a",
   "metadata": {},
   "outputs": [],
   "source": [
    "a, b, c = np.random.normal(size=(3,5,2)), np.random.normal(size=(4,3)), np.random.normal(size=(5,7,2,4))\n",
    "a_, b_, c_ = lib.np.meshgrid_dd(a, b, c)\n",
    "assert a_.shape == (3,5,4,5,7,2,2) and b_.shape == (3,5,4,5,7,2,3) and c_.shape == (3,5,4,5,7,2,4)\n",
    "assert lib.np.isconst(a_, axis=(2,3,4,5)).all() and (a_[:,:,0,0,0,0,:] == a).all()\n",
    "assert lib.np.isconst(b_, axis=(0,1,3,4,5)).all() and (b_[0,0,:,0,0,0,:] == b).all()\n",
    "assert lib.np.isconst(c_, axis=(0,1,2)).all() and (c_[0,0,0,:,:,:,:] == c).all()"
   ]
  },
  {
   "cell_type": "code",
   "execution_count": 8,
   "id": "2b638d69-01c7-4070-8193-cd46b082d7d3",
   "metadata": {},
   "outputs": [],
   "source": [
    "a, b, c = np.random.normal(size=(3,5)), np.random.normal(size=(4,)), np.random.normal(size=(5,7,2))\n",
    "a_, b_, c_ = lib.np.meshgrid(a, b, c)\n",
    "assert a_.shape == (3,5,4,5,7,2) and b_.shape == (3,5,4,5,7,2) and c_.shape == (3,5,4,5,7,2)\n",
    "assert lib.np.isconst(a_, axis=(2,3,4,5)).all() and (a_[:,:,0,0,0,0] == a).all()\n",
    "assert lib.np.isconst(b_, axis=(0,1,3,4,5)).all() and (b_[0,0,:,0,0,0] == b).all()\n",
    "assert lib.np.isconst(c_, axis=(0,1,2)).all() and (c_[0,0,0,:,:,:] == c).all()"
   ]
  },
  {
   "cell_type": "code",
   "execution_count": 6,
   "id": "58a6ad0b-f6e4-4312-877f-65036dcaa53a",
   "metadata": {},
   "outputs": [
    {
     "name": "stdout",
     "output_type": "stream",
     "text": [
      "(3, 4, 5) (3, 4, 5)\n"
     ]
    }
   ],
   "source": [
    "a, b, c = np.random.normal(size=3), np.random.normal(size=4), np.random.normal(size=5)\n",
    "a1, b1, c1 = lib.np.meshgrid(a, b, c, indexing='ij')\n",
    "a2, b2, c2 = np.meshgrid(a, b, c, indexing='ij')\n",
    "print(a1.shape, a2.shape)\n",
    "np.testing.assert_allclose(a1, a2)\n",
    "np.testing.assert_allclose(b1, b2)\n",
    "np.testing.assert_allclose(c1, c2)"
   ]
  },
  {
   "cell_type": "code",
   "execution_count": 14,
   "id": "d28e3398-2c3a-45b7-859e-540c689dfffa",
   "metadata": {},
   "outputs": [],
   "source": [
    "a, b, c = np.random.normal(size=1000), np.random.normal(size=100), np.random.normal(size=100)"
   ]
  },
  {
   "cell_type": "code",
   "execution_count": 20,
   "id": "84dde8af-8662-43f9-b930-aafae0b03945",
   "metadata": {},
   "outputs": [
    {
     "name": "stdout",
     "output_type": "stream",
     "text": [
      "42.6 µs ± 1.59 µs per loop (mean ± std. dev. of 7 runs, 10,000 loops each)\n"
     ]
    }
   ],
   "source": [
    "%%timeit\n",
    "a_, b_, c_ = lib.np.meshgrid(a, b, c, indexing='xy')"
   ]
  },
  {
   "cell_type": "code",
   "execution_count": 21,
   "id": "7b5a7fa6-d15d-4da2-baa9-ce04bb9e4333",
   "metadata": {},
   "outputs": [
    {
     "name": "stdout",
     "output_type": "stream",
     "text": [
      "45.3 ms ± 9.96 ms per loop (mean ± std. dev. of 7 runs, 10 loops each)\n"
     ]
    }
   ],
   "source": [
    "%%timeit\n",
    "a_, b_, c_ = np.meshgrid(a, b, c, indexing='xy')"
   ]
  },
  {
   "cell_type": "code",
   "execution_count": 23,
   "id": "fcfd8105-f545-4a7c-80ea-80585c75a50c",
   "metadata": {},
   "outputs": [
    {
     "name": "stdout",
     "output_type": "stream",
     "text": [
      "(100, 1000, 100) (100, 1000, 100)\n"
     ]
    }
   ],
   "source": [
    "a1, b1, c1 = lib.np.meshgrid(a, b, c, indexing='xy')\n",
    "a2, b2, c2 = np.meshgrid(a, b, c, indexing='xy')\n",
    "print(a1.shape, a2.shape)\n",
    "np.testing.assert_allclose(a1, a2)\n",
    "np.testing.assert_allclose(b1, b2)\n",
    "np.testing.assert_allclose(c1, c2)"
   ]
  },
  {
   "cell_type": "code",
   "execution_count": 28,
   "id": "5f902557-b903-4bf0-87a0-818f3b141377",
   "metadata": {},
   "outputs": [
    {
     "name": "stdout",
     "output_type": "stream",
     "text": [
      "[array([['a', 'a', 'a'],\n",
      "       ['b', 'b', 'b'],\n",
      "       ['c', 'c', 'c']], dtype='<U1'), array([[1, 2, 3],\n",
      "       [1, 2, 3],\n",
      "       [1, 2, 3]])]\n"
     ]
    }
   ],
   "source": [
    "a = np.array(['a', 'b', 'c'])\n",
    "b = np.array([1,2,3])\n",
    "print(np.meshgrid(a, b, indexing='ij'))"
   ]
  },
  {
   "cell_type": "code",
   "execution_count": 27,
   "id": "afde8263-399f-4e1f-8d49-a8a425563b83",
   "metadata": {},
   "outputs": [
    {
     "data": {
      "text/plain": [
       "[array([['a', 'a', 'a'],\n",
       "        ['b', 'b', 'b'],\n",
       "        ['c', 'c', 'c']], dtype='<U1'),\n",
       " array([[1, 2, 3],\n",
       "        [1, 2, 3],\n",
       "        [1, 2, 3]])]"
      ]
     },
     "execution_count": 27,
     "metadata": {},
     "output_type": "execute_result"
    }
   ],
   "source": [
    "np.meshgrid(a, b, indexing='ij')"
   ]
  },
  {
   "cell_type": "code",
   "execution_count": 64,
   "id": "b97c33a3-8440-47a2-a691-94e8694c77b3",
   "metadata": {},
   "outputs": [],
   "source": [
    "df = sns.load_dataset('fmri').convert_dtypes()\n",
    "df1 = df[['timepoint']]\n",
    "df2 = df[['signal']]"
   ]
  },
  {
   "cell_type": "code",
   "execution_count": 72,
   "id": "727f4961-7a5f-470f-99de-f2aa935b7f64",
   "metadata": {},
   "outputs": [
    {
     "name": "stdout",
     "output_type": "stream",
     "text": [
      "92.9 ms ± 284 µs per loop (mean ± std. dev. of 7 runs, 10 loops each)\n"
     ]
    }
   ],
   "source": [
    "%%timeit\n",
    "df = lib.pd.cross_join(df1, df2, maintain_dtypes=True)"
   ]
  },
  {
   "cell_type": "code",
   "execution_count": null,
   "id": "40904504-c295-4309-9098-62d13d5fb250",
   "metadata": {},
   "outputs": [],
   "source": []
  }
 ],
 "metadata": {
  "kernelspec": {
   "display_name": "Python [conda env:anaconda3-hyclib]",
   "language": "python",
   "name": "conda-env-anaconda3-hyclib-py"
  },
  "language_info": {
   "codemirror_mode": {
    "name": "ipython",
    "version": 3
   },
   "file_extension": ".py",
   "mimetype": "text/x-python",
   "name": "python",
   "nbconvert_exporter": "python",
   "pygments_lexer": "ipython3",
   "version": "3.9.16"
  }
 },
 "nbformat": 4,
 "nbformat_minor": 5
}
