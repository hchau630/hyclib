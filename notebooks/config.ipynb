{
 "cells": [
  {
   "cell_type": "code",
   "execution_count": 1,
   "id": "2324104b-44be-4291-b83f-4a147094d79a",
   "metadata": {},
   "outputs": [],
   "source": [
    "%load_ext autoreload\n",
    "%autoreload 2"
   ]
  },
  {
   "cell_type": "code",
   "execution_count": 1,
   "id": "2a11146b-f18a-43a9-bd8d-8c414306b2df",
   "metadata": {},
   "outputs": [
    {
     "name": "stderr",
     "output_type": "stream",
     "text": [
      "INFO:numexpr.utils:Note: NumExpr detected 10 cores but \"NUMEXPR_MAX_THREADS\" not set, so enforcing safe limit of 8.\n",
      "INFO:numexpr.utils:NumExpr defaulting to 8 threads.\n",
      "DEBUG:h5py._conv:Creating converter from 7 to 5\n",
      "DEBUG:h5py._conv:Creating converter from 5 to 7\n",
      "DEBUG:h5py._conv:Creating converter from 7 to 5\n",
      "DEBUG:h5py._conv:Creating converter from 5 to 7\n",
      "DEBUG:matplotlib:matplotlib data path: /Users/hoyinchau/opt/anaconda3/envs/hyclib/lib/python3.9/site-packages/matplotlib/mpl-data\n",
      "DEBUG:matplotlib:CONFIGDIR=/Users/hoyinchau/.matplotlib\n",
      "DEBUG:matplotlib:interactive is False\n",
      "DEBUG:matplotlib:platform is darwin\n",
      "DEBUG:matplotlib:CACHEDIR=/Users/hoyinchau/.matplotlib\n",
      "DEBUG:matplotlib.font_manager:Using fontManager instance from /Users/hoyinchau/.matplotlib/fontlist-v330.json\n",
      "DEBUG:hyclib.config:Loaded default config file at /Users/hoyinchau/local_documents/research/hyclib/hyclib/config.toml.\n",
      "DEBUG:hyclib.config:Loaded user config files at the following locations from highest to lowest priority: [PosixPath('hyclib_config.toml'), PosixPath('/Users/hoyinchau/local_documents/research/hyclib/configs/hyclib_config.toml'), PosixPath('/Users/hoyinchau/Library/Application Support/hyclib/config.toml')]\n"
     ]
    }
   ],
   "source": [
    "import logging\n",
    "logging.basicConfig()\n",
    "logger = logging.getLogger()\n",
    "logger.setLevel('DEBUG')\n",
    "import hyclib as lib"
   ]
  },
  {
   "cell_type": "code",
   "execution_count": 2,
   "id": "419932ee-87cf-45b1-8258-33ec564355fd",
   "metadata": {},
   "outputs": [
    {
     "name": "stdout",
     "output_type": "stream",
     "text": [
      "1st user config\n",
      "2nd user config\n",
      "3rd user config\n",
      "4\n"
     ]
    }
   ],
   "source": [
    "print(lib.cfg['params']['a'])\n",
    "print(lib.cfg['params']['b'])\n",
    "print(lib.cfg['params']['c'])\n",
    "lib.cfg['params']['b'] = 4\n",
    "print(lib.cfg['params']['b'])"
   ]
  },
  {
   "cell_type": "code",
   "execution_count": null,
   "id": "26fa2877-b1a2-412b-a38d-752820076ebb",
   "metadata": {},
   "outputs": [],
   "source": []
  }
 ],
 "metadata": {
  "kernelspec": {
   "display_name": "Python [conda env:hyclib]",
   "language": "python",
   "name": "conda-env-hyclib-py"
  },
  "language_info": {
   "codemirror_mode": {
    "name": "ipython",
    "version": 3
   },
   "file_extension": ".py",
   "mimetype": "text/x-python",
   "name": "python",
   "nbconvert_exporter": "python",
   "pygments_lexer": "ipython3",
   "version": "3.9.16"
  }
 },
 "nbformat": 4,
 "nbformat_minor": 5
}
